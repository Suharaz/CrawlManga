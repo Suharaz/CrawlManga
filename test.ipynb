{
 "cells": [
  {
   "cell_type": "code",
   "execution_count": 1,
   "metadata": {},
   "outputs": [],
   "source": [
    "import random\n",
    "import requests\n",
    "import os\n",
    "from PIL import Image\n",
    "import requests\n",
    "from bs4 import BeautifulSoup\n",
    "from lxml import html\n",
    "import json"
   ]
  },
  {
   "cell_type": "code",
   "execution_count": 2,
   "metadata": {},
   "outputs": [],
   "source": [
    "### Lấy danh sách các chapter của manga\n",
    "def get_manga_chapters(id_manga):\n",
    "    list_link=[]\n",
    "    url = 'https://manhuaes.com/wp-admin/admin-ajax.php'\n",
    "    payload = {\n",
    "    'action': 'manga_get_chapters',\n",
    "    'manga': f\"{id_manga}\"\n",
    "    }\n",
    "\n",
    "    res = requests.post(url, data=payload)\n",
    "    soup=BeautifulSoup(res.content, 'html.parser')\n",
    "    links=soup.find_all('a',href=True)\n",
    "    for link in links:\n",
    "        list_link.append(link['href'])\n",
    "\n",
    "    return list_link\n",
    "\n",
    "### Lấy các link ahr trong 1 chapter \n",
    "def get_img_chapter(link_chapter):\n",
    "    list_img=[]\n",
    "    res = requests.get(link_chapter)\n",
    "    soup=BeautifulSoup(res.content,'html.parser')\n",
    "    divs = soup.find_all('div', class_='page-break no-gaps')\n",
    "    for div in divs:\n",
    "        img = div.find('img')\n",
    "        url = img.get('data-src')\n",
    "        list_img.append(url)\n",
    "    return list_img   \n",
    "\n",
    "### Download và chuyển đổi định dạng ảnh bìa sang webp\n",
    "def convert_img(link):\n",
    "    try:\n",
    "        name = str(random.randint(100000, 999999999))\n",
    "        res = requests.get(link)\n",
    "        with open('{}.jpg'.format(name), 'wb') as f:\n",
    "            f.write(res.content)\n",
    "\n",
    "        image = Image.open('{}.jpg'.format(name)).convert('RGB')\n",
    "        image.save('{}.webp'.format(name), 'webp', optimize=True, quality=70)\n",
    "\n",
    "        url = \"https://img.mangalab.org/api/1/upload\"\n",
    "        payload = {'key': 'thankinhcac', 'format': 'json'}\n",
    "        files = [('source', open('{}.webp'.format(name), 'rb'))]\n",
    "        response = requests.post(url, data=payload, files=files)\n",
    "        files[0][1].close()\n",
    "\n",
    "        os.remove('{}.webp'.format(name))\n",
    "        os.remove('{}.jpg'.format(name))\n",
    "        response_data = response.json()\n",
    "        image_url = response_data['image']['url']\n",
    "        return image_url\n",
    "    except (requests.RequestException, IOError) as e:\n",
    "        # Handle request, file I/O errors\n",
    "        print(\"An error occurred:\", str(e))\n",
    "        return None\n",
    "    except Exception as e:\n",
    "        # Handle other unexpected errors\n",
    "        print(\"An unexpected error occurred:\", str(e))\n",
    "        return None\n",
    "\n",
    "### Lấy các thông tin cơ bản của 1 manga \n",
    "def info_manga(manga_link):\n",
    "    info=[]\n",
    "    res=requests.get(manga_link)\n",
    "    soup = BeautifulSoup(res.content, 'html.parser')\n",
    "    lst_content=soup.find_all(class_='summary-content')\n",
    "    link_tag = soup.find('link', rel='shortlink')\n",
    "    id_manga = link_tag.get('href').split('=')[-1]\n",
    "    info.append(id_manga)\n",
    "    ratings=soup.find(class_='score font-meta total_votes').text\n",
    "    info.append(soup.find('h1').text.strip().replace('\\n', '').replace('\\t', ''))\n",
    "    if float(ratings)>1: \n",
    "        info.append(lst_content[2].text.strip().replace('\\n', '').replace('\\t', ''))\n",
    "        info.append(lst_content[3].text.strip().replace('\\n', '').replace('\\t', ''))\n",
    "        info.append(lst_content[4].text.strip().replace('\\n', '').replace('\\t', ''))\n",
    "        info.append(lst_content[5].text.strip().replace('\\n', '').replace('\\t', ''))\n",
    "    else:\n",
    "        info.append(lst_content[1].text.strip().replace('\\n', '').replace('\\t', ''))\n",
    "        info.append(lst_content[2].text.strip().replace('\\n', '').replace('\\t', ''))\n",
    "        info.append(lst_content[3].text.strip().replace('\\n', '').replace('\\t', ''))\n",
    "        info.append(lst_content[4].text.strip().replace('\\n', '').replace('\\t', ''))\n",
    "\n",
    "\n",
    "    img_manga=soup.find_all(class_='summary_image')[0].find('img')['data-src'].replace('-193x278','')\n",
    "    \n",
    "    info.append(convert_img(img_manga))\n",
    "    return info\n"
   ]
  },
  {
   "cell_type": "code",
   "execution_count": null,
   "metadata": {},
   "outputs": [],
   "source": [
    "import os\n",
    "import mysql.connector\n",
    "\n",
    "# Connect to the remote MySQL database\n",
    "mydb = mysql.connector.connect(\n",
    "  host=\"89.58.24.136\",\n",
    "  user=\"tsuhara\",\n",
    "  password=\"C7JHsZMDdCYjxD6Z\",\n",
    "  database=\"tsuhara\"\n",
    ")"
   ]
  },
  {
   "cell_type": "code",
   "execution_count": 3,
   "metadata": {},
   "outputs": [
    {
     "data": {
      "text/plain": [
       "['38182',\n",
       " 'Apotheosis',\n",
       " 'Apotheosis : Elevation to the status of a god Manhua / Apotheosis : Elevation to the status of a god Manhua ,Forged Success',\n",
       " 'Ranzai Studio',\n",
       " 'Updating',\n",
       " 'Action, Fantasy, Martial Arts, Shounen',\n",
       " 'https://img.thankinhcac.top/file/mangalab/02d857fdb530289c2e4822d4a463f626.webp']"
      ]
     },
     "execution_count": 3,
     "metadata": {},
     "output_type": "execute_result"
    }
   ],
   "source": [
    "info_manga('https://manhuaes.com/manga/apotheosis/')"
   ]
  },
  {
   "cell_type": "code",
   "execution_count": 4,
   "metadata": {},
   "outputs": [],
   "source": [
    "mycursor = mydb.cursor()\n",
    "sql = \"INSERT INTO mc_comic (  name ,  yname ,  pic ,  picx ,   serialize ,  author ,   pic_author ,  txt_author ,  content,  addtime ) VALUES ( %s,%s,%s,%s,%s, %s,%s,%s,%s,%s)\"\n",
    "val=( 'rgtbs', 'rgtbs', '/attachment/comic/2023/05/13/202305131005052548.jpg', '/attachment/comic/2023/05/13/202305131005118699.jpg',  '连载', 'BotScans', 'gfb', 'fg', 'fg', 1683943682)\n",
    "        \n",
    "mycursor.execute(sql, val)\n",
    "\n",
    "mydb.commit()"
   ]
  },
  {
   "cell_type": "code",
   "execution_count": 3,
   "metadata": {},
   "outputs": [],
   "source": [
    "def get_all_manga():\n",
    "    arr=[]\n",
    "    for i in range(1,36):\n",
    "        res=requests.get('https://manhuaes.com/page/{}/'.format(i))\n",
    "        soup=BeautifulSoup(res.content,'html.parser')\n",
    "        links=soup.find_all('h3',class_='h5')\n",
    "        del res\n",
    "        del soup\n",
    "        for link in links:\n",
    "            arr.append(link.find('a').get('href'))\n",
    "    return arr\n"
   ]
  },
  {
   "cell_type": "code",
   "execution_count": 10,
   "metadata": {},
   "outputs": [],
   "source": [
    "import requests\n",
    "from bs4 import BeautifulSoup\n",
    "from requests.exceptions import RequestException\n",
    "\n",
    "def get_all_manga():\n",
    "    arr = []\n",
    "    for i in range(1, 36):\n",
    "        url = 'https://manhuaes.com/page/{}/'.format(i)\n",
    "        retries = 1  # Number of times to retry the request\n",
    "        for _ in range(retries):\n",
    "            try:\n",
    "                res = requests.get(url)\n",
    "                soup = BeautifulSoup(res.content, 'html.parser')\n",
    "                links = soup.find_all('h3', class_='h5')\n",
    "                for link in links:\n",
    "                    arr.append(link.find('a').get('href'))\n",
    "                break  # Break out of the retry loop if successful\n",
    "            except RequestException as e:\n",
    "                print(f\"Error occurred: {str(e)}\")\n",
    "                print(f\"Retrying request: {url}\")\n",
    "    return arr\n"
   ]
  },
  {
   "cell_type": "code",
   "execution_count": 11,
   "metadata": {},
   "outputs": [],
   "source": [
    "a=get_all_manga()"
   ]
  },
  {
   "cell_type": "code",
   "execution_count": 13,
   "metadata": {},
   "outputs": [
    {
     "name": "stdout",
     "output_type": "stream",
     "text": [
      "Done\n"
     ]
    }
   ],
   "source": [
    "\n",
    "# open file in write mode\n",
    "with open(r'manga.txt', 'w') as fp:\n",
    "    for item in a:\n",
    "        # write each item on a new line\n",
    "        fp.write(\"%s\\n\" % item)\n",
    "    print('Done')"
   ]
  }
 ],
 "metadata": {
  "kernelspec": {
   "display_name": "Python 3",
   "language": "python",
   "name": "python3"
  },
  "language_info": {
   "codemirror_mode": {
    "name": "ipython",
    "version": 3
   },
   "file_extension": ".py",
   "mimetype": "text/x-python",
   "name": "python",
   "nbconvert_exporter": "python",
   "pygments_lexer": "ipython3",
   "version": "3.10.7"
  },
  "orig_nbformat": 4
 },
 "nbformat": 4,
 "nbformat_minor": 2
}
