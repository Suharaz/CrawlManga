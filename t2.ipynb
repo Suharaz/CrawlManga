{
 "cells": [
  {
   "cell_type": "code",
   "execution_count": 23,
   "metadata": {},
   "outputs": [
    {
     "name": "stdout",
     "output_type": "stream",
     "text": [
      "{'msg': '恭喜您，入库成功~!', 'code': 1}\n"
     ]
    }
   ],
   "source": [
    "\n",
    "\n",
    "import requests\n",
    "\n",
    "url =\"https://test.suhara.top/index.php/api/receive/comic\"\n",
    "payload = {\n",
    "    'pass': '00001111',\n",
    "    'cid': 'gdfsg', # kiểu truyện : manhua , manhwa , manga ....\n",
    "    'name': 'Jkaim',\n",
    "    'author': 'John Doe',\n",
    "    'txt_author':'Moa',\n",
    "}\n",
    "\n",
    "response = requests.post(url, data=payload)\n",
    "print(response.json())\n"
   ]
  },
  {
   "cell_type": "code",
   "execution_count": 4,
   "metadata": {},
   "outputs": [
    {
     "name": "stdout",
     "output_type": "stream",
     "text": [
      "Request successful!\n",
      "{'msg': '入库完成', 'code': 1}\n"
     ]
    }
   ],
   "source": [
    "import requests\n",
    "\n",
    "url =\"https://test.suhara.top/index.php/api/receive/chapter\"\n",
    "\n",
    "payload = {\n",
    "    \"pass\": \"00001111\",\n",
    "    \"name\": \"Chap 12 \",\n",
    "    \"mid\": \"20\",\n",
    "    \"mname\": \"Tiêu đề truyện tranh\",\n",
    "    \"mauthor\": \"Tác giả truyện tranh\",\n",
    "   \"vip\": \"0\",  # Hoặc \"1\" nếu cần quyền đọc VIP\n",
    "    \"cion\": \"0\",  # Số lượng tiền ảo đọc, ví dụ: \"5\"\n",
    "    \"pic\": \"https://tingenz.com/wp-content/uploads/2022/09/hinh-anh-co-gai-cute-anime-8-min.jpg###https://tingenz.com/wp-content/uploads/2022/09/hinh-anh-co-gai-cute-anime-8-min.jpg\",  # Địa chỉ hình ảnh, phân tách bằng \"###\"\n",
    "    \"yid\": \"0\",  # Hoặc \"1\" tùy thuộc vào trạng thái xem trước\n",
    "    \"xid\": \"6\"  #  \n",
    "}\n",
    "\n",
    "response = requests.post(url, data=payload)\n",
    "\n",
    "# Check the response status\n",
    "if response.status_code == 200:\n",
    "    print(\"Request successful!\")\n",
    "    print(response.json())\n",
    "    # You can access the response content if needed: response.content\n",
    "else:\n",
    "    print(\"Request failed with status code:\", response.status_code)\n"
   ]
  },
  {
   "cell_type": "code",
   "execution_count": null,
   "metadata": {},
   "outputs": [],
   "source": []
  }
 ],
 "metadata": {
  "kernelspec": {
   "display_name": "Python 3",
   "language": "python",
   "name": "python3"
  },
  "language_info": {
   "codemirror_mode": {
    "name": "ipython",
    "version": 3
   },
   "file_extension": ".py",
   "mimetype": "text/x-python",
   "name": "python",
   "nbconvert_exporter": "python",
   "pygments_lexer": "ipython3",
   "version": "3.11.2"
  },
  "orig_nbformat": 4
 },
 "nbformat": 4,
 "nbformat_minor": 2
}
