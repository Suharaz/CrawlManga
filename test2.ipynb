{
 "cells": [
  {
   "cell_type": "code",
   "execution_count": 16,
   "metadata": {},
   "outputs": [],
   "source": [
    "import random\n",
    "import requests\n",
    "import os\n",
    "from PIL import Image\n",
    "\n",
    "def convert_img(link):\n",
    "    try:\n",
    "        name = str(random.randint(100000, 999999999))\n",
    "        res = requests.get(link)\n",
    "        with open('{}.jpg'.format(name), 'wb') as f:\n",
    "            f.write(res.content)\n",
    "\n",
    "        image = Image.open('{}.jpg'.format(name)).convert('RGB')\n",
    "        image.save('{}.webp'.format(name), 'webp', optimize=True, quality=70)\n",
    "\n",
    "        url = \"https://img.mangalab.org/api/1/upload\"\n",
    "        payload = {'key': 'thankinhcac', 'format': 'json'}\n",
    "        files = [('source', open('{}.webp'.format(name), 'rb'))]\n",
    "        response = requests.post(url, data=payload, files=files)\n",
    "        files[0][1].close()\n",
    "\n",
    "        os.remove('{}.webp'.format(name))\n",
    "        os.remove('{}.jpg'.format(name))\n",
    "        response_data = response.json()\n",
    "        image_url = response_data['image']['url']\n",
    "        return image_url\n",
    "    except (requests.RequestException, IOError) as e:\n",
    "        # Handle request, file I/O errors\n",
    "        print(\"An error occurred:\", str(e))\n",
    "        return None\n",
    "    except Exception as e:\n",
    "        # Handle other unexpected errors\n",
    "        print(\"An unexpected error occurred:\", str(e))\n",
    "        return None\n"
   ]
  },
  {
   "cell_type": "code",
   "execution_count": null,
   "metadata": {},
   "outputs": [],
   "source": [
    "def upload_image_local():\n"
   ]
  },
  {
   "cell_type": "code",
   "execution_count": 17,
   "metadata": {},
   "outputs": [
    {
     "data": {
      "text/plain": [
       "'https://img.thankinhcac.top/file/mangalab/a4b77575eff3624f69fbe1bde37eba77.webp'"
      ]
     },
     "execution_count": 17,
     "metadata": {},
     "output_type": "execute_result"
    }
   ],
   "source": [
    "convert_img('https://manhuaes.com/wp-content/uploads/2023/05/miao-shou-xian-dan.jpg')"
   ]
  },
  {
   "cell_type": "code",
   "execution_count": 1,
   "metadata": {},
   "outputs": [],
   "source": [
    "import pandas as pd"
   ]
  },
  {
   "cell_type": "code",
   "execution_count": 26,
   "metadata": {},
   "outputs": [
    {
     "data": {
      "text/plain": [
       "Index(['Mail', 'Mail2'], dtype='object')"
      ]
     },
     "execution_count": 26,
     "metadata": {},
     "output_type": "execute_result"
    }
   ],
   "source": [
    "df=pd.read_csv(r\"C:\\Users\\Administrator\\Downloads\\sd.csv\")\n",
    "df.columns"
   ]
  },
  {
   "cell_type": "code",
   "execution_count": 27,
   "metadata": {},
   "outputs": [],
   "source": [
    "for i in range(len(df)):\n",
    "    df.iloc[i,1]=df.iloc[i,0].split(\"@\")[0]"
   ]
  },
  {
   "cell_type": "code",
   "execution_count": 18,
   "metadata": {},
   "outputs": [],
   "source": [
    "arr=['thankinhcac.top','mangalab.org','suhara.top','wairdrops.com']"
   ]
  },
  {
   "cell_type": "code",
   "execution_count": 16,
   "metadata": {},
   "outputs": [],
   "source": [
    "import random"
   ]
  },
  {
   "cell_type": "code",
   "execution_count": 29,
   "metadata": {},
   "outputs": [],
   "source": [
    "for i in range(len(df)):\n",
    "    df.iloc[i,1]=df.iloc[i,1]+'@'+random.choice(arr)"
   ]
  },
  {
   "cell_type": "code",
   "execution_count": 33,
   "metadata": {},
   "outputs": [],
   "source": [
    "df.to_csv('mail.csv')"
   ]
  }
 ],
 "metadata": {
  "kernelspec": {
   "display_name": "Python 3",
   "language": "python",
   "name": "python3"
  },
  "language_info": {
   "codemirror_mode": {
    "name": "ipython",
    "version": 3
   },
   "file_extension": ".py",
   "mimetype": "text/x-python",
   "name": "python",
   "nbconvert_exporter": "python",
   "pygments_lexer": "ipython3",
   "version": "3.11.2"
  },
  "orig_nbformat": 4,
  "vscode": {
   "interpreter": {
    "hash": "a42ccb73e7d9bfdf27e036f1d2b8b681e55fc0743cc5586bc2474d4a60f4b886"
   }
  }
 },
 "nbformat": 4,
 "nbformat_minor": 2
}
